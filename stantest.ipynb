{
 "cells": [
  {
   "cell_type": "code",
   "execution_count": 2,
   "metadata": {},
   "outputs": [],
   "source": [
    "from cmdstanpy import CmdStanModel\n",
    "import arviz as az"
   ]
  },
  {
   "cell_type": "code",
   "execution_count": 4,
   "metadata": {},
   "outputs": [
    {
     "name": "stderr",
     "output_type": "stream",
     "text": [
      "18:11:36 - cmdstanpy - INFO - compiling stan file /Users/ronaldlegere/Documents/dataSciDev/StanFun/schools.stan to exe file /Users/ronaldlegere/Documents/dataSciDev/StanFun/schools\n",
      "18:11:43 - cmdstanpy - INFO - compiled model executable: /Users/ronaldlegere/Documents/dataSciDev/StanFun/schools\n"
     ]
    }
   ],
   "source": [
    "model = CmdStanModel(stan_file='schools.stan')"
   ]
  },
  {
   "cell_type": "code",
   "execution_count": 9,
   "metadata": {},
   "outputs": [
    {
     "name": "stderr",
     "output_type": "stream",
     "text": [
      "18:13:02 - cmdstanpy - INFO - CmdStan start processing\n"
     ]
    },
    {
     "data": {
      "application/vnd.jupyter.widget-view+json": {
       "model_id": "be7c6f6e23504b8d954057d57a02a3b7",
       "version_major": 2,
       "version_minor": 0
      },
      "text/plain": [
       "chain 1 |          | 00:00 Status"
      ]
     },
     "metadata": {},
     "output_type": "display_data"
    },
    {
     "data": {
      "application/vnd.jupyter.widget-view+json": {
       "model_id": "78d5adb209d847c383e50fc7f3eaac50",
       "version_major": 2,
       "version_minor": 0
      },
      "text/plain": [
       "chain 2 |          | 00:00 Status"
      ]
     },
     "metadata": {},
     "output_type": "display_data"
    },
    {
     "data": {
      "application/vnd.jupyter.widget-view+json": {
       "model_id": "706a70d58ba44fa8993c31a35e5a44c9",
       "version_major": 2,
       "version_minor": 0
      },
      "text/plain": [
       "chain 3 |          | 00:00 Status"
      ]
     },
     "metadata": {},
     "output_type": "display_data"
    },
    {
     "data": {
      "application/vnd.jupyter.widget-view+json": {
       "model_id": "2f05dfb608724c8991783065cf7647f4",
       "version_major": 2,
       "version_minor": 0
      },
      "text/plain": [
       "chain 4 |          | 00:00 Status"
      ]
     },
     "metadata": {},
     "output_type": "display_data"
    },
    {
     "name": "stdout",
     "output_type": "stream",
     "text": [
      "                                                                                                                                                                                                                                                                                                                                "
     ]
    },
    {
     "name": "stderr",
     "output_type": "stream",
     "text": [
      "18:13:02 - cmdstanpy - INFO - CmdStan done processing.\n",
      "18:13:02 - cmdstanpy - WARNING - Some chains may have failed to converge.\n",
      "\tChain 2 had 3 divergent transitions (0.3%)\n",
      "\tChain 4 had 1 divergent transitions (0.1%)\n",
      "\tUse the \"diagnose()\" method on the CmdStanMCMC object to see further information.\n"
     ]
    },
    {
     "name": "stdout",
     "output_type": "stream",
     "text": [
      "\n"
     ]
    }
   ],
   "source": [
    "schools_dat = {'J' : 8, 'y' : [28,8,-4,7,-1,1,18,12],\n",
    "                    'sigma' : [15,10,16,11,9,11,10,18]}\n",
    "fit = model.sample(data=schools_dat, chains=4, parallel_chains=4)"
   ]
  },
  {
   "cell_type": "code",
   "execution_count": 10,
   "metadata": {},
   "outputs": [],
   "source": [
    "idata = az.from_cmdstanpy(fit, coords={'school': list(range(1, 9))},\n",
    "                         dims={'school': ['school']})"
   ]
  },
  {
   "cell_type": "code",
   "execution_count": 11,
   "metadata": {},
   "outputs": [
    {
     "data": {
      "application/vnd.microsoft.datawrangler.viewer.v0+json": {
       "columns": [
        {
         "name": "index",
         "rawType": "object",
         "type": "string"
        },
        {
         "name": "mean",
         "rawType": "float64",
         "type": "float"
        },
        {
         "name": "sd",
         "rawType": "float64",
         "type": "float"
        },
        {
         "name": "hdi_3%",
         "rawType": "float64",
         "type": "float"
        },
        {
         "name": "hdi_97%",
         "rawType": "float64",
         "type": "float"
        },
        {
         "name": "mcse_mean",
         "rawType": "float64",
         "type": "float"
        },
        {
         "name": "mcse_sd",
         "rawType": "float64",
         "type": "float"
        },
        {
         "name": "ess_bulk",
         "rawType": "float64",
         "type": "float"
        },
        {
         "name": "ess_tail",
         "rawType": "float64",
         "type": "float"
        },
        {
         "name": "r_hat",
         "rawType": "float64",
         "type": "float"
        }
       ],
       "conversionMethod": "pd.DataFrame",
       "ref": "cf71d10d-be08-4ef9-b36b-26a503c22b79",
       "rows": [
        [
         "mu",
         "7.836",
         "4.982",
         "-1.659",
         "17.31",
         "0.124",
         "0.088",
         "1687.0",
         "1682.0",
         "1.0"
        ],
        [
         "tau",
         "6.665",
         "5.689",
         "0.005",
         "16.29",
         "0.152",
         "0.112",
         "1444.0",
         "1842.0",
         "1.0"
        ]
       ],
       "shape": {
        "columns": 9,
        "rows": 2
       }
      },
      "text/html": [
       "<div>\n",
       "<style scoped>\n",
       "    .dataframe tbody tr th:only-of-type {\n",
       "        vertical-align: middle;\n",
       "    }\n",
       "\n",
       "    .dataframe tbody tr th {\n",
       "        vertical-align: top;\n",
       "    }\n",
       "\n",
       "    .dataframe thead th {\n",
       "        text-align: right;\n",
       "    }\n",
       "</style>\n",
       "<table border=\"1\" class=\"dataframe\">\n",
       "  <thead>\n",
       "    <tr style=\"text-align: right;\">\n",
       "      <th></th>\n",
       "      <th>mean</th>\n",
       "      <th>sd</th>\n",
       "      <th>hdi_3%</th>\n",
       "      <th>hdi_97%</th>\n",
       "      <th>mcse_mean</th>\n",
       "      <th>mcse_sd</th>\n",
       "      <th>ess_bulk</th>\n",
       "      <th>ess_tail</th>\n",
       "      <th>r_hat</th>\n",
       "    </tr>\n",
       "  </thead>\n",
       "  <tbody>\n",
       "    <tr>\n",
       "      <th>mu</th>\n",
       "      <td>7.836</td>\n",
       "      <td>4.982</td>\n",
       "      <td>-1.659</td>\n",
       "      <td>17.31</td>\n",
       "      <td>0.124</td>\n",
       "      <td>0.088</td>\n",
       "      <td>1687.0</td>\n",
       "      <td>1682.0</td>\n",
       "      <td>1.0</td>\n",
       "    </tr>\n",
       "    <tr>\n",
       "      <th>tau</th>\n",
       "      <td>6.665</td>\n",
       "      <td>5.689</td>\n",
       "      <td>0.005</td>\n",
       "      <td>16.29</td>\n",
       "      <td>0.152</td>\n",
       "      <td>0.112</td>\n",
       "      <td>1444.0</td>\n",
       "      <td>1842.0</td>\n",
       "      <td>1.0</td>\n",
       "    </tr>\n",
       "  </tbody>\n",
       "</table>\n",
       "</div>"
      ],
      "text/plain": [
       "      mean     sd  hdi_3%  hdi_97%  mcse_mean  mcse_sd  ess_bulk  ess_tail  \\\n",
       "mu   7.836  4.982  -1.659    17.31      0.124    0.088    1687.0    1682.0   \n",
       "tau  6.665  5.689   0.005    16.29      0.152    0.112    1444.0    1842.0   \n",
       "\n",
       "     r_hat  \n",
       "mu     1.0  \n",
       "tau    1.0  "
      ]
     },
     "execution_count": 11,
     "metadata": {},
     "output_type": "execute_result"
    }
   ],
   "source": [
    "az.summary(idata, var_names=['mu', 'tau'])"
   ]
  },
  {
   "cell_type": "code",
   "execution_count": null,
   "metadata": {},
   "outputs": [],
   "source": []
  }
 ],
 "metadata": {
  "kernelspec": {
   "display_name": "stan",
   "language": "python",
   "name": "python3"
  },
  "language_info": {
   "codemirror_mode": {
    "name": "ipython",
    "version": 3
   },
   "file_extension": ".py",
   "mimetype": "text/x-python",
   "name": "python",
   "nbconvert_exporter": "python",
   "pygments_lexer": "ipython3",
   "version": "3.13.2"
  }
 },
 "nbformat": 4,
 "nbformat_minor": 2
}
